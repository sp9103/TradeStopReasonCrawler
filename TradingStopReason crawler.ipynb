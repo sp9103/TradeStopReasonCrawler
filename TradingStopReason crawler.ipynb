{
 "cells": [
  {
   "cell_type": "code",
   "execution_count": null,
   "metadata": {},
   "outputs": [],
   "source": [
    "import os\n",
    "import sys\n",
    "sys.path.append(os.path.abspath('../'))\n",
    "\n",
    "import pandas as pd\n",
    "import requests\n",
    "import lxml.html\n",
    "import re\n",
    "from urllib.request import urlopen\n",
    "from bs4 import BeautifulSoup\n",
    "from html_table_parser import parser_functions as parser\n",
    "\n",
    "from Preprocess import *"
   ]
  },
  {
   "cell_type": "code",
   "execution_count": null,
   "metadata": {},
   "outputs": [],
   "source": [
    "auth_key='YOURKEY'   # 여기에 전자공시시스템에서 발급받은 키를 넣어야하\n",
    "start_date = '20090102' # ItemCharge에서 첫날짜\n",
    "end_date  = '20190531' # ItemCharge에서 마지막 날짜\n",
    "\n",
    "base_url = \"http://dart.fss.or.kr/api/search.xml?auth=\"+auth_key"
   ]
  },
  {
   "cell_type": "markdown",
   "metadata": {},
   "source": [
    "# Import & preprocess"
   ]
  },
  {
   "cell_type": "code",
   "execution_count": null,
   "metadata": {},
   "outputs": [],
   "source": [
    "df_itemChargeWithIssue = pd.read_csv(\"../../data/fn_data_itemChargeWithIssue.csv\", parse_dates=['date'])\n",
    "PreprocessItemcode(df_itemChargeWithIssue)"
   ]
  },
  {
   "cell_type": "markdown",
   "metadata": {},
   "source": [
    "# Trading stop item code"
   ]
  },
  {
   "cell_type": "code",
   "execution_count": null,
   "metadata": {},
   "outputs": [],
   "source": [
    "stopitemcode = df_itemChargeWithIssue[df_itemChargeWithIssue['trade_stop_yn'] == 'Y']['itemcode'].unique()"
   ]
  },
  {
   "cell_type": "code",
   "execution_count": null,
   "metadata": {},
   "outputs": [],
   "source": [
    "df_report = pd.DataFrame()\n",
    "fail_code = []\n",
    "for code in stopitemcode:\n",
    "    url = base_url+\"&crp_cd=\"+code+\"&start_dt=\"+start_date+\"&end_dt=\"+end_date+\"&bsn_tp=I003\"+\"&page_set=100\"+\"&fin_rpt=N\"\n",
    "    \n",
    "    resultXML = urlopen(url)  #this is for response of XML\n",
    "    result = resultXML.read() #Using read method\n",
    "    \n",
    "    xmlsoup=BeautifulSoup(result,'html.parser')\n",
    "    \n",
    "    data = pd.DataFrame()\n",
    "\n",
    "    te=xmlsoup.findAll(\"list\")\n",
    "\n",
    "    for t in te:\n",
    "        if t.crp_nm.string == t.flr_nm.string:\n",
    "            continue\n",
    "        if not \"거래정지\" in t.rpt_nm.string:\n",
    "            continue\n",
    "        if \"기타시장안내\" in t.rpt_nm.string:\n",
    "            continue\n",
    "        if \"기간변경\" in t.rpt_nm.string:\n",
    "            continue\n",
    "        if \"기간변경\" in t.rpt_nm.string:\n",
    "            continue\n",
    "        if \"주권매매거래정지해제\" in t.rpt_nm.string:\n",
    "            continue\n",
    "        temp = pd.DataFrame(([[t.crp_cls.string,t.crp_nm.string,t.crp_cd.string,t.rpt_nm.string,\n",
    "            t.rcp_no.string,t.flr_nm.string,t.rcp_dt.string, t.rmk.string]]),\n",
    "            columns = [\"crp_cls\",\"crp_nm\",\"crp_cd\",\"rpt_nm\",\"rcp_no\",\"flr_nm\",\"rcp_dt\",\"rmk\"])\n",
    "        data = pd.concat([data,temp])\n",
    "    if len(data) == 0:\n",
    "        fail_code.append(code)\n",
    "    df_report = pd.concat([df_report, data])\n",
    "df_report = df_report.reset_index(drop=True)"
   ]
  },
  {
   "cell_type": "code",
   "execution_count": null,
   "metadata": {},
   "outputs": [],
   "source": [
    "def readTabel(report, doc_num, bPrintInfo = False):\n",
    "    url = \"http://dart.fss.or.kr/dsaf001/main.do?rcpNo=\"+df_report['rcp_no'][doc_num]\n",
    "    req = requests.get(url)\n",
    "    tree = lxml.html.fromstring(req.text)\n",
    "    onclick = tree.xpath('//*[@id=\"north\"]/div[2]/ul/li[1]/a')[0].attrib['onclick']\n",
    "    pattern = re.compile(\"^openPdfDownload\\('\\d+',\\s*'(\\d+)'\\)\")\n",
    "    dcm_no = pattern.search(onclick).group(1)\n",
    "    url_parsing = 'http://dart.fss.or.kr/report/viewer.do?rcpNo='+df_report['rcp_no'][doc_num]+\"&dcmNo=\"+dcm_no+'&eleId=0&offset=0&length=0&dtd=HTML'\n",
    "\n",
    "    report=urlopen(url_parsing)\n",
    "    r=report.read()\n",
    "\n",
    "    xmlsoup_another = BeautifulSoup(r,'html.parser') \n",
    "    body=xmlsoup_another.find(\"body\")\n",
    "    table=body.find_all(\"table\")\n",
    "    p = parser.make2d(table[-1])[:3]\n",
    "    \n",
    "    if bPrintInfo:\n",
    "        print(url)\n",
    "        print(url_parsing)\n",
    "        print(p)\n",
    "\n",
    "    if len(p[0]) == 3:\n",
    "        idx = 1\n",
    "    else:\n",
    "        idx = 2\n",
    "    k = [[p[i][idx] for i in range(len(p))]]\n",
    "    sheet = pd.DataFrame(k, columns=['itemname', 'trade_stop_reason', 'date'])\n",
    "\n",
    "    sheet['itemcode'] = df_report['crp_cd'][doc_num]\n",
    "    sheet['rcp_no'] = df_report['rcp_no'][doc_num]\n",
    "    return sheet"
   ]
  },
  {
   "cell_type": "code",
   "execution_count": null,
   "metadata": {},
   "outputs": [],
   "source": [
    "display(df_report[df_report['rpt_nm'] == '주권매매거래정지해제(투자자보호(감자 철회))'].head())\n",
    "display(df_report[df_report['crp_nm'] == '이매진아시아'].head())"
   ]
  },
  {
   "cell_type": "code",
   "execution_count": null,
   "metadata": {},
   "outputs": [],
   "source": [
    "df_report['rpt_nm'].unique()"
   ]
  },
  {
   "cell_type": "code",
   "execution_count": null,
   "metadata": {},
   "outputs": [],
   "source": [
    "stop_reason_sheet = pd.DataFrame()\n",
    "for doc_num in range(len(df_report)):\n",
    "    sheet = readTabel(df_report, doc_num)\n",
    "    stop_reason_sheet = pd.concat([stop_reason_sheet, sheet])\n",
    "stop_reason_sheet = stop_reason_sheet.reset_index(drop=True)\n",
    "stop_reason_sheet = stop_reason_sheet[stop_reason_sheet['date'].apply(len) >= 10]\n",
    "stop_reason_sheet.head()"
   ]
  },
  {
   "cell_type": "code",
   "execution_count": null,
   "metadata": {},
   "outputs": [],
   "source": [
    "df_report.head()"
   ]
  },
  {
   "cell_type": "code",
   "execution_count": null,
   "metadata": {},
   "outputs": [],
   "source": [
    "readTabel(df_report, 1, True)"
   ]
  },
  {
   "cell_type": "code",
   "execution_count": null,
   "metadata": {},
   "outputs": [],
   "source": [
    "stop_reason_sheet['date'] = stop_reason_sheet['date'].map(lambda x: x.rstrip('부터').replace(\"년 \", \"-\",1).replace(\"월 \", \"-\",1).replace(\"일\", \"\",1)[:10])\n",
    "stop_reason_sheet['date'] = pd.to_datetime(stop_reason_sheet['date'])"
   ]
  },
  {
   "cell_type": "code",
   "execution_count": null,
   "metadata": {},
   "outputs": [],
   "source": [
    "stop_reason_sheet.tail()"
   ]
  },
  {
   "cell_type": "markdown",
   "metadata": {},
   "source": [
    "# 중복 보도 제거"
   ]
  },
  {
   "cell_type": "code",
   "execution_count": null,
   "metadata": {},
   "outputs": [],
   "source": [
    "print(len(stop_reason_sheet))\n",
    "stop_reason_sheet['duplicate_cnt'] = 0\n",
    "\n",
    "idxs = []\n",
    "for df in stop_reason_sheet.groupby('itemcode'):\n",
    "    df = pd.DataFrame(df[1])\n",
    "    b = False\n",
    "    \n",
    "    for df2 in df.groupby('date'):\n",
    "        if len(df2[1]) > 1:\n",
    "            idxs += list(df2[1].index)[1:]\n",
    "            b = True\n",
    "        stop_reason_sheet.loc[df2[1].index, 'duplicate_cnt'] = len(df2[1])\n",
    "stop_reason_sheet = stop_reason_sheet.drop(idxs)\n",
    "print(len(stop_reason_sheet))"
   ]
  },
  {
   "cell_type": "code",
   "execution_count": null,
   "metadata": {},
   "outputs": [],
   "source": [
    "stop_reason_sheet[stop_reason_sheet['itemcode'] == '001260']"
   ]
  },
  {
   "cell_type": "code",
   "execution_count": null,
   "metadata": {},
   "outputs": [],
   "source": [
    "readTabel(df_report, 3, True)"
   ]
  },
  {
   "cell_type": "markdown",
   "metadata": {},
   "source": [
    "# File save"
   ]
  },
  {
   "cell_type": "code",
   "execution_count": null,
   "metadata": {},
   "outputs": [],
   "source": [
    "stop_reason_sheet.to_csv(\"./TradeStopReason.csv\", index=False)"
   ]
  },
  {
   "cell_type": "code",
   "execution_count": null,
   "metadata": {},
   "outputs": [],
   "source": [
    "stop_reason_sheet[stop_reason_sheet['trade_stop_reason'] == '풍문 등 조회결과 공시\\r\\n반기감사보고서 제출']"
   ]
  },
  {
   "cell_type": "code",
   "execution_count": null,
   "metadata": {},
   "outputs": [],
   "source": [
    "stop_reason_sheet['trade_stop_reason'].unique()"
   ]
  },
  {
   "cell_type": "code",
   "execution_count": null,
   "metadata": {},
   "outputs": [],
   "source": [
    "merge3 = mergeTradeStopReason(df_itemChargeWithIssue, stop_reason_sheet)"
   ]
  },
  {
   "cell_type": "code",
   "execution_count": null,
   "metadata": {},
   "outputs": [],
   "source": [
    "merge3.head()"
   ]
  },
  {
   "cell_type": "code",
   "execution_count": null,
   "metadata": {},
   "outputs": [],
   "source": [
    "merge3.to_csv(\"../../data/fn_data_itemChargeWithIssueStopReason.csv\", index=False)"
   ]
  },
  {
   "cell_type": "code",
   "execution_count": null,
   "metadata": {},
   "outputs": [],
   "source": [
    "print(merge3['trade_stop_reason'].unique())\n",
    "print(len(merge3['trade_stop_reason'].unique()))"
   ]
  },
  {
   "cell_type": "code",
   "execution_count": null,
   "metadata": {},
   "outputs": [],
   "source": []
  }
 ],
 "metadata": {
  "kernelspec": {
   "display_name": "Python 3",
   "language": "python",
   "name": "python3"
  },
  "language_info": {
   "codemirror_mode": {
    "name": "ipython",
    "version": 3
   },
   "file_extension": ".py",
   "mimetype": "text/x-python",
   "name": "python",
   "nbconvert_exporter": "python",
   "pygments_lexer": "ipython3",
   "version": "3.6.8"
  }
 },
 "nbformat": 4,
 "nbformat_minor": 2
}
